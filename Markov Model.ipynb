{
 "cells": [
  {
   "cell_type": "markdown",
   "id": "e5eb5a55",
   "metadata": {},
   "source": [
    "# Markov Model\n",
    "\n",
    "In short itt's the base of a lot of NLP models.\n",
    "The Markov assumes that a value depends only on the previous value - Markov property."
   ]
  },
  {
   "cell_type": "markdown",
   "id": "438ff022",
   "metadata": {},
   "source": [
    "## Build text classifier by hand\n",
    "\n",
    "A typical workflow would be:\n",
    "1. Split big string by sentence \n",
    "2. use each sentence for training (use lower case, and remove punctuation)\n",
    "3. assign label (e.g., 1/0) for each sentence\n",
    "4. create a word-to-index mapping ({1:\"I\",2:\"am\",3:\"good\"...}\n",
    "5. Then use this mapping to map every word in the sentence (converting them to integers) "
   ]
  }
 ],
 "metadata": {
  "kernelspec": {
   "display_name": "Python 3 (ipykernel)",
   "language": "python",
   "name": "python3"
  },
  "language_info": {
   "codemirror_mode": {
    "name": "ipython",
    "version": 3
   },
   "file_extension": ".py",
   "mimetype": "text/x-python",
   "name": "python",
   "nbconvert_exporter": "python",
   "pygments_lexer": "ipython3",
   "version": "3.9.15"
  }
 },
 "nbformat": 4,
 "nbformat_minor": 5
}
